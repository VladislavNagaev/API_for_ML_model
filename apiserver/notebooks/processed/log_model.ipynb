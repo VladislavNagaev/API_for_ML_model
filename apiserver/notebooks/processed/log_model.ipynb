{
 "cells": [
  {
   "cell_type": "code",
   "execution_count": 1,
   "metadata": {},
   "outputs": [],
   "source": [
    "import os\n",
    "from tensorflow.keras.models import load_model\n",
    "\n",
    "# Директории моделей\n",
    "PATH_TO_MODELS = r'../../models' \n",
    "\n",
    "model_name = f'model_Sequential'\n",
    "model_path = os.path.join(PATH_TO_MODELS, model_name + '.h5')\n",
    "\n",
    "model = load_model(filepath=model_path, compile=True)"
   ]
  },
  {
   "cell_type": "code",
   "execution_count": 2,
   "metadata": {},
   "outputs": [],
   "source": [
    "# encoder_features = [feature for feature in columns_for_encoder if feature in modeled_columns]\n",
    "# scaler_features = [feature for feature in columns_for_scaler if feature in modeled_columns]\n",
    "\n",
    "dictionary = dict(\n",
    "    target_column = 'Churn',\n",
    "    encoder_features = [\n",
    "        'SeniorCitizen',\n",
    "        'Dependents',\n",
    "        'PhoneService',\n",
    "        'MultipleLines',\n",
    "        'InternetService',\n",
    "        'OnlineSecurity',\n",
    "        'OnlineBackup',\n",
    "        'DeviceProtection',\n",
    "        'TechSupport',\n",
    "        'Contract'],\n",
    "    scaler_features = [\n",
    "        'SeniorCitizen',\n",
    "        'Dependents',\n",
    "        'tenure',\n",
    "        'PhoneService',\n",
    "        'MultipleLines',\n",
    "        'InternetService',\n",
    "        'OnlineSecurity',\n",
    "        'OnlineBackup',\n",
    "        'DeviceProtection',\n",
    "        'TechSupport',\n",
    "        'Contract',\n",
    "        'MonthlyCharges']\n",
    ")\n",
    "\n",
    "dictionary_name = 'dictionary'\n",
    "dictionary_path = os.path.join(PATH_TO_MODELS, dictionary_name + '.json')\n",
    "\n",
    "with open(dictionary_path, 'w') as fid:\n",
    "    json.dump(dictionary, fid)"
   ]
  },
  {
   "cell_type": "code",
   "execution_count": 3,
   "metadata": {},
   "outputs": [],
   "source": [
    "with open(dictionary_path, 'rb') as fid:\n",
    "    q = json.load(fid)"
   ]
  },
  {
   "cell_type": "markdown",
   "metadata": {},
   "source": [
    "Setting environment variables"
   ]
  },
  {
   "cell_type": "code",
   "execution_count": 7,
   "metadata": {},
   "outputs": [
    {
     "name": "stdout",
     "output_type": "stream",
     "text": [
      "env: MLFLOW_S3_ENDPOINT_URL=https://your_S3_endpoint_url/\n",
      "env: AWS_ACCESS_KEY_ID=your_S3_access_key_id\n",
      "env: AWS_SECRET_ACCESS_KEY=your_S3_secret_key\n"
     ]
    }
   ],
   "source": [
    "%env MLFLOW_S3_ENDPOINT_URL=https://your_S3_endpoint_url/\n",
    "%env AWS_ACCESS_KEY_ID=your_S3_access_key_id\n",
    "%env AWS_SECRET_ACCESS_KEY=your_S3_secret_key"
   ]
  },
  {
   "cell_type": "code",
   "execution_count": 5,
   "metadata": {},
   "outputs": [],
   "source": [
    "BUCKET = 'your_bucket'\n",
    "ARTIFACT_STORE = 'your_artifact_store'\n",
    "\n",
    "artifact_location=f's3://{BUCKET}/{ARTIFACT_STORE}'\n",
    "\n",
    "experiment_name = 'model_churn'\n",
    "mlflow_uri = \"http://localhost:5000\"\n",
    "model_name='tf-Sequential'"
   ]
  },
  {
   "cell_type": "code",
   "execution_count": 6,
   "metadata": {},
   "outputs": [
    {
     "name": "stdout",
     "output_type": "stream",
     "text": [
      "INFO:tensorflow:Assets written to: ram://72c9de48-c05b-49ae-a708-caf8680bd867/assets\n"
     ]
    },
    {
     "name": "stderr",
     "output_type": "stream",
     "text": [
      "2022/05/08 18:52:51 WARNING mlflow.utils.environment: Encountered an unexpected error while inferring pip requirements (model URI: /tmp/tmpeheq1175/model/model.pkl, flavor: sklearn), fall back to return ['scikit-learn==0.24.2', 'cloudpickle==1.6.0']. Set logging level to DEBUG to see the full traceback.\n",
      "Registered model 'tf-Sequential' already exists. Creating a new version of this model...\n",
      "2022/05/08 18:52:51 INFO mlflow.tracking._model_registry.client: Waiting up to 300 seconds for model version to finish creation.                     Model name: tf-Sequential, version 10\n",
      "Created version '10' of model 'tf-Sequential'.\n"
     ]
    }
   ],
   "source": [
    "import mlflow\n",
    "from mlflow.models.signature import infer_signature\n",
    "\n",
    "\n",
    "\n",
    "mlflow.set_tracking_uri(mlflow_uri)\n",
    "\n",
    "\n",
    "try:\n",
    "    experiment = mlflow.get_experiment_by_name(\n",
    "        name=experiment_name,\n",
    "    )\n",
    "    experiment_id = experiment.experiment_id\n",
    "except AttributeError:\n",
    "    experiment_id = mlflow.create_experiment(\n",
    "        name=experiment_name, \n",
    "        artifact_location=artifact_location,\n",
    "    )\n",
    "\n",
    "with mlflow.start_run(\n",
    "    experiment_id=experiment_id\n",
    ") as run:\n",
    "    \n",
    "    # log model\n",
    "    mlflow.sklearn.log_model(\n",
    "        sk_model=model,\n",
    "        artifact_path=experiment_name,\n",
    "        registered_model_name=model_name,\n",
    "    )\n",
    "    \n",
    "    # log dictionary\n",
    "    mlflow.log_artifact(local_path=dictionary_path)\n",
    "    \n",
    "    # log targer label encoder\n",
    "    feature = dictionary.get('target_column')\n",
    "    label_encoder_name = f'label_encoder_{feature}'\n",
    "    label_encoder_path = os.path.join(PATH_TO_MODELS, label_encoder_name + '.pkl')\n",
    "    mlflow.log_artifact(local_path=label_encoder_path,)    \n",
    "    \n",
    "    # log feature encoders\n",
    "    for feature in dictionary.get('encoder_features'):\n",
    "        label_encoder_name = f'label_encoder_{feature}'\n",
    "        label_encoder_path = os.path.join(PATH_TO_MODELS, label_encoder_name + '.pkl')\n",
    "        mlflow.log_artifact(local_path=label_encoder_path,)\n",
    "    \n",
    "    # log feature scalers\n",
    "    for feature in dictionary.get('scaler_features'):\n",
    "        feature_scaler_name = f'feature_scaler_{feature}'\n",
    "        feature_scaler_path = os.path.join(PATH_TO_MODELS, feature_scaler_name + '.pkl')\n",
    "        mlflow.log_artifact(local_path=feature_scaler_path,) \n",
    "    \n",
    "    mlflow.end_run()"
   ]
  }
 ],
 "metadata": {
  "hide_input": false,
  "kernelspec": {
   "display_name": "Python 3",
   "language": "python",
   "name": "python3"
  },
  "language_info": {
   "codemirror_mode": {
    "name": "ipython",
    "version": 3
   },
   "file_extension": ".py",
   "mimetype": "text/x-python",
   "name": "python",
   "nbconvert_exporter": "python",
   "pygments_lexer": "ipython3",
   "version": "3.8.10"
  },
  "latex_envs": {
   "LaTeX_envs_menu_present": true,
   "autoclose": false,
   "autocomplete": true,
   "bibliofile": "biblio.bib",
   "cite_by": "apalike",
   "current_citInitial": 1,
   "eqLabelWithNumbers": true,
   "eqNumInitial": 1,
   "hotkeys": {
    "equation": "Ctrl-E",
    "itemize": "Ctrl-I"
   },
   "labels_anchors": false,
   "latex_user_defs": false,
   "report_style_numbering": false,
   "user_envs_cfg": false
  },
  "toc": {
   "base_numbering": 1,
   "nav_menu": {},
   "number_sections": true,
   "sideBar": true,
   "skip_h1_title": false,
   "title_cell": "Table of Contents",
   "title_sidebar": "Contents",
   "toc_cell": false,
   "toc_position": {},
   "toc_section_display": true,
   "toc_window_display": false
  },
  "varInspector": {
   "cols": {
    "lenName": 16,
    "lenType": 16,
    "lenVar": 40
   },
   "kernels_config": {
    "python": {
     "delete_cmd_postfix": "",
     "delete_cmd_prefix": "del ",
     "library": "var_list.py",
     "varRefreshCmd": "print(var_dic_list())"
    },
    "r": {
     "delete_cmd_postfix": ") ",
     "delete_cmd_prefix": "rm(",
     "library": "var_list.r",
     "varRefreshCmd": "cat(var_dic_list()) "
    }
   },
   "types_to_exclude": [
    "module",
    "function",
    "builtin_function_or_method",
    "instance",
    "_Feature"
   ],
   "window_display": false
  }
 },
 "nbformat": 4,
 "nbformat_minor": 4
}
